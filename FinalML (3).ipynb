{
  "nbformat": 4,
  "nbformat_minor": 0,
  "metadata": {
    "colab": {
      "provenance": []
    },
    "kernelspec": {
      "name": "python3",
      "display_name": "Python 3"
    },
    "language_info": {
      "name": "python"
    },
    "gpuClass": "standard",
    "accelerator": "GPU"
  },
  "cells": [
    {
      "cell_type": "markdown",
      "source": [
        "#Model for plant-disease classification 🌴"
      ],
      "metadata": {
        "id": "rBlcNU_D06Y1"
      }
    },
    {
      "cell_type": "code",
      "execution_count": 6,
      "metadata": {
        "id": "4VDd8l_8tEtl"
      },
      "outputs": [],
      "source": [
        "import time\n",
        "import numpy as np\n",
        "import pandas as pd\n",
        "import matplotlib.pyplot as plt\n",
        "import os\n",
        "import time\n",
        "import cv2\n",
        "import seaborn as sns\n",
        "import shutil\n",
        "from sklearn.metrics import confusion_matrix, classification_report\n",
        "from sklearn.model_selection import train_test_split\n",
        "import tensorflow as tf\n",
        "from tensorflow import keras\n",
        "from tensorflow.keras.preprocessing.image import ImageDataGenerator\n",
        "from tensorflow.keras.layers import Dropout,Conv2D, MaxPooling2D,BatchNormalization,Dense, Activation\n",
        "from tensorflow.keras.optimizers import Adam, Adamax\n",
        "from tensorflow.keras.metrics import categorical_crossentropy\n",
        "from tensorflow.keras import regularizers\n",
        "from tensorflow.keras.models import Model\n"
      ]
    },
    {
      "cell_type": "code",
      "source": [
        "!pip install opendatasets"
      ],
      "metadata": {
        "colab": {
          "base_uri": "https://localhost:8080/"
        },
        "id": "R_lq_hLXt7do",
        "outputId": "993adefb-9ae3-4e30-d1ab-9e260d28d2d0"
      },
      "execution_count": 1,
      "outputs": [
        {
          "output_type": "stream",
          "name": "stdout",
          "text": [
            "Looking in indexes: https://pypi.org/simple, https://us-python.pkg.dev/colab-wheels/public/simple/\n",
            "Collecting opendatasets\n",
            "  Downloading opendatasets-0.1.22-py3-none-any.whl (15 kB)\n",
            "Requirement already satisfied: kaggle in /usr/local/lib/python3.7/dist-packages (from opendatasets) (1.5.12)\n",
            "Requirement already satisfied: click in /usr/local/lib/python3.7/dist-packages (from opendatasets) (7.1.2)\n",
            "Requirement already satisfied: tqdm in /usr/local/lib/python3.7/dist-packages (from opendatasets) (4.64.1)\n",
            "Requirement already satisfied: urllib3 in /usr/local/lib/python3.7/dist-packages (from kaggle->opendatasets) (1.24.3)\n",
            "Requirement already satisfied: six>=1.10 in /usr/local/lib/python3.7/dist-packages (from kaggle->opendatasets) (1.15.0)\n",
            "Requirement already satisfied: certifi in /usr/local/lib/python3.7/dist-packages (from kaggle->opendatasets) (2022.9.24)\n",
            "Requirement already satisfied: python-slugify in /usr/local/lib/python3.7/dist-packages (from kaggle->opendatasets) (6.1.2)\n",
            "Requirement already satisfied: python-dateutil in /usr/local/lib/python3.7/dist-packages (from kaggle->opendatasets) (2.8.2)\n",
            "Requirement already satisfied: requests in /usr/local/lib/python3.7/dist-packages (from kaggle->opendatasets) (2.23.0)\n",
            "Requirement already satisfied: text-unidecode>=1.3 in /usr/local/lib/python3.7/dist-packages (from python-slugify->kaggle->opendatasets) (1.3)\n",
            "Requirement already satisfied: idna<3,>=2.5 in /usr/local/lib/python3.7/dist-packages (from requests->kaggle->opendatasets) (2.10)\n",
            "Requirement already satisfied: chardet<4,>=3.0.2 in /usr/local/lib/python3.7/dist-packages (from requests->kaggle->opendatasets) (3.0.4)\n",
            "Installing collected packages: opendatasets\n",
            "Successfully installed opendatasets-0.1.22\n"
          ]
        }
      ]
    },
    {
      "cell_type": "markdown",
      "source": [
        "##Preprocessing: For preprocessing the general idea here is to use dfs and not touching the original files so that we do not have to download anything again if something goes wrong and most importantly save time. \n"
      ],
      "metadata": {
        "id": "mW_lmoEK1FRR"
      }
    },
    {
      "cell_type": "markdown",
      "source": [
        "#### The workflow goes as such:\n",
        "* make a df with all filepaths for classes > n\n",
        "* trim the df to remove everything greater than our max images(here 500)\n",
        "* create a new augmented df while creating an augmented image and adding the path to aug_df and finally merge with the trimmed df.\n",
        "* Now we will have 500 images everywhere.\n",
        "\n",
        "#### For the split we are doing  a 80:10:10 split between train,val and test respectively\n",
        "\n",
        "#### The image shape throughout the code is (224,224,3)"
      ],
      "metadata": {
        "id": "3AZfsK2O1W6z"
      }
    },
    {
      "cell_type": "code",
      "source": [
        "directory=r'' #enter path here\n",
        "min_samples=20 # set limit for minimum images a class must have to be included in the dataframe\n",
        "\n",
        "image_paths = [] #list to store image paths     \n",
        "labels=[] #list to store label\n",
        "\n",
        "#storing all classes\n",
        "classlist=os.listdir(directory)   \n",
        "\n",
        "#checking by each label/class\n",
        "for label in classlist:\n",
        "    classpath=os.path.join(directory, label)#path for each label\n",
        "    flist=os.listdir(classpath)#list of all image paths under a label\n",
        "    \n",
        "    #if number of images satisfy the min sample we add it to our lists that will be inturn added to the df\n",
        "    if len(flist) >= min_samples:\n",
        "        for f in flist:\n",
        "            fpath=os.path.join(classpath,f)\n",
        "            image_paths.append(fpath)\n",
        "            labels.append(label)\n",
        "    else:\n",
        "        print(f'Since class {label}  has only {len(flist)} images we will omit it')\n",
        "\n",
        "\n",
        "Impath=pd.Series(image_paths, name='image_paths')\n",
        "lab=pd.Series(labels, name='labels')        \n",
        "\n",
        "\n",
        "df=pd.concat([Impath, lab], axis=1)#Our initial df with image paths \n",
        "\n",
        "#Split data \n",
        "train_df, dummy_df=train_test_split(df, train_size=.8, shuffle=True, random_state=42, stratify=df['labels'])\n",
        "valid_df, test_df=train_test_split(dummy_df, train_size=.5, shuffle=True, random_state=42, stratify=dummy_df['labels'])\n",
        "print(f'\\ntrain_df has: {len(train_df)} images,  test_df has:  {len(test_df)} images, valid_df has: {len(valid_df)} images')\n",
        "\n",
        "\n",
        "#Now let us have a look how many images each class has\n",
        "\n",
        "classes=sorted(list(train_df['labels'].unique()))\n",
        "class_count = len(classes)#number of classes\n",
        "print(f'\\nOur initial df has: {class_count} classes')\n",
        "groups=train_df.groupby('labels') #store images by labels\n",
        "\n",
        "\n",
        "countlist=[]\n",
        "classlist=[]\n",
        "\n",
        "print('\\n')\n",
        "for label in sorted(list(train_df['labels'].unique())):\n",
        "    group=groups.get_group(label)#storing all images under a label\n",
        "    countlist.append(len(group))\n",
        "    classlist.append(label)\n",
        "    print(f'{label} has : {len(group)} images')\n",
        "\n",
        "\n",
        "\n",
        "# To check the highest and lowest number of images\n",
        "max_value=np.max(countlist)\n",
        "max_index=countlist.index(max_value)\n",
        "max_class=classlist[max_index]\n",
        "min_value=np.min(countlist)\n",
        "min_index=countlist.index(min_value)\n",
        "min_class=classlist[min_index]\n",
        "print(f'\\n{max_class} has the highest amount of  images with {max_value} images and  {min_class} has the lowest amount of  images with  {min_value} images')"
      ],
      "metadata": {
        "id": "jQlAs20wnMiX",
        "colab": {
          "base_uri": "https://localhost:8080/"
        },
        "outputId": "64ce19b1-9b03-4d97-8ce3-08fea2d20acc"
      },
      "execution_count": 7,
      "outputs": [
        {
          "output_type": "stream",
          "name": "stdout",
          "text": [
            "Since class tomato canker  has only 19 images we will omit it\n",
            "Since class Waterlogging in plant  has only 7 images we will omit it\n",
            "Since class Nitrogen deficiency in plant  has only 11 images we will omit it\n",
            "Since class potassium deficiency in plant  has only 18 images we will omit it\n",
            "\n",
            "train_df has: 53200 images,  test_df has:  6651 images, valid_df has: 6650 images\n",
            "\n",
            "Our initial df has: 54 classes\n",
            "\n",
            "\n",
            "Apple Apple scab has : 1613 images\n",
            "Apple Black rot has : 1590 images\n",
            "Apple Cedar apple rust has : 704 images\n",
            "Apple healthy has : 1053 images\n",
            "Bacterial leaf blight in rice leaf has : 32 images\n",
            "Blight in corn Leaf has : 917 images\n",
            "Blueberry healthy has : 962 images\n",
            "Brown spot in rice leaf has : 32 images\n",
            "Cercospora leaf spot has : 51 images\n",
            "Cherry (including sour) Powdery mildew has : 674 images\n",
            "Cherry (including_sour) healthy has : 547 images\n",
            "Common Rust in corn Leaf has : 1045 images\n",
            "Corn (maize) healthy has : 744 images\n",
            "Garlic has : 39 images\n",
            "Grape Black rot has : 3021 images\n",
            "Grape Esca Black Measles has : 3542 images\n",
            "Grape Leaf blight Isariopsis Leaf Spot has : 2755 images\n",
            "Grape healthy has : 271 images\n",
            "Gray Leaf Spot in corn Leaf has : 459 images\n",
            "Leaf smut in rice leaf has : 32 images\n",
            "Orange Haunglongbing Citrus greening has : 14099 images\n",
            "Peach healthy has : 230 images\n",
            "Pepper bell Bacterial spot has : 798 images\n",
            "Pepper bell healthy has : 946 images\n",
            "Potato Early blight has : 800 images\n",
            "Potato Late blight has : 800 images\n",
            "Potato healthy has : 98 images\n",
            "Raspberry healthy has : 238 images\n",
            "Sogatella rice has : 21 images\n",
            "Soybean healthy has : 3258 images\n",
            "Strawberry Leaf scorch has : 710 images\n",
            "Strawberry healthy has : 292 images\n",
            "Tomato Bacterial spot has : 1702 images\n",
            "Tomato Early blight has : 800 images\n",
            "Tomato Late blight has : 1527 images\n",
            "Tomato Leaf Mold has : 762 images\n",
            "Tomato Septoria leaf spot has : 1417 images\n",
            "Tomato Spider mites Two spotted spider mite has : 1341 images\n",
            "Tomato Target Spot has : 1123 images\n",
            "Tomato Tomato mosaic virus has : 298 images\n",
            "Tomato healthy has : 1018 images\n",
            "algal leaf in tea has : 90 images\n",
            "anthracnose in tea has : 80 images\n",
            "bird eye spot in tea has : 80 images\n",
            "brown blight in tea has : 90 images\n",
            "cabbage looper has : 62 images\n",
            "corn crop has : 83 images\n",
            "ginger has : 36 images\n",
            "healthy tea leaf has : 59 images\n",
            "lemon canker has : 49 images\n",
            "onion has : 16 images\n",
            "potato crop has : 32 images\n",
            "potato hollow heart has : 48 images\n",
            "red leaf spot in tea has : 114 images\n",
            "\n",
            "Orange Haunglongbing Citrus greening has the highest amount of  images with 14099 images and  onion has the lowest amount of  images with  16 images\n"
          ]
        }
      ]
    },
    {
      "cell_type": "code",
      "source": [
        "def trim(df, max_images, min_images):\n",
        "\n",
        "  \"\"\"\n",
        "  This function will input a df and return a trimmed df with only x amount of max images per class\n",
        "\n",
        "  \"\"\"\n",
        "  trimmed_df = pd.DataFrame(columns = df.columns)#df where we stored our trimmed image paths\n",
        "  \n",
        "  groups=df.groupby('labels')#store images by group\n",
        "  \n",
        "  \n",
        "  for label in df['labels'].unique(): \n",
        "        group=groups.get_group(label)#store images in a class\n",
        "        \n",
        "        number_of_images=len(group) #number of images in a class\n",
        "        #if images > max images then we randomly pick 'max images'   \n",
        "        if number_of_images > max_images:\n",
        "            s=group.sample(n=max_images, random_state=42,axis=0) #we pick x amount of random samples\n",
        "            trimmed_df=pd.concat([trimmed_df, s], axis=0)#add to df\n",
        "        else:\n",
        "            #Now if number of images is > min images but < max images, we simply add it to the df and fill later with augmented images\n",
        "            if number_of_images >=min_images:\n",
        "                s=group        \n",
        "                trimmed_df=pd.concat([trimmed_df, s], axis=0)#add to df\n",
        "  \n",
        "  \n",
        "  print(f'The max images are:{max_images} and the minimum images are: {min_images}')\n",
        "  return trimmed_df"
      ],
      "metadata": {
        "id": "mZUgz2G6bUsq"
      },
      "execution_count": 8,
      "outputs": []
    },
    {
      "cell_type": "code",
      "source": [
        "max_images=500 # since each class has more than 200 images all classes will be trimmed to have 200 images per class\n",
        "min_images=16\n",
        "column='labels'\n",
        "train_df= trim(train_df, max_images, min_images)"
      ],
      "metadata": {
        "colab": {
          "base_uri": "https://localhost:8080/"
        },
        "id": "hz-WfYKlp76O",
        "outputId": "80ea147e-5eae-4a2f-fe33-e1692f45e0ce"
      },
      "execution_count": 9,
      "outputs": [
        {
          "output_type": "stream",
          "name": "stdout",
          "text": [
            "The max images are:500 and the minimum images are: 16\n"
          ]
        }
      ]
    },
    {
      "cell_type": "code",
      "source": [
        "def Augment(df, n, working_dir, img_size):\n",
        "  \n",
        "  \n",
        "  \n",
        "  \n",
        "  print('Initial length of dataframe is ', len(df))\n",
        "    \n",
        "    \n",
        "  augment_dir=os.path.join(working_dir, 'aug')# directory to store augmented images\n",
        "  os.mkdir(augment_dir)        \n",
        "    \n",
        "    \n",
        "  for label in df['labels'].unique():    \n",
        "      dir_path=os.path.join(augment_dir,label)    \n",
        "      os.mkdir(dir_path) # make class directories within aug directory\n",
        "    \n",
        "    \n",
        "    #counter variable for total augmented images\n",
        "  total=0\n",
        "  Aug_gen=ImageDataGenerator(horizontal_flip=True,  rotation_range=20, width_shift_range=.2,\n",
        "                                  height_shift_range=.2, zoom_range=.2)\n",
        "    \n",
        "    \n",
        "  groups=df.groupby('labels') # store images grouped by class\n",
        "    \n",
        "    \n",
        "  for label in df['labels'].unique():            \n",
        "      group=groups.get_group(label)  # store image paths for a particular label\n",
        "      number_of_images=len(group)   # determine how many samples there are in this class        \n",
        "      if number_of_images< n: # if the class has less than target number of images\n",
        "            aug_img_count=0 # counter variable for number of aug images created for that class\n",
        "            difference=n - number_of_images  # number of augmented images to create\n",
        "            target_dir=os.path.join(augment_dir, label)  # define where to write the images\n",
        "            print(f'For {label} creating {difference} augmented images. ',end='')\n",
        "            #print(msg, '\\r', end='') # prints over on the same line\n",
        "            aug_gen=Aug_gen.flow_from_dataframe( group,  x_col='image_paths', y_col=None, target_size=img_size,\n",
        "                                            class_mode=None, batch_size=1, shuffle=False, \n",
        "                                            save_to_dir=target_dir, save_prefix='aug-', color_mode='rgb',\n",
        "                                            save_format='jpg')\n",
        "            while aug_img_count<difference:\n",
        "                images=next(aug_gen)            \n",
        "                aug_img_count += len(images)\n",
        "            total +=aug_img_count\n",
        "  print('Total Augmented images created= ', total)\n",
        "    \n",
        "    \n",
        "    \n",
        "    # Now create an augmented df and merge it with the initial df \n",
        "    \n",
        "    \n",
        "    \n",
        "  aug_image_paths=[]\n",
        "  aug_labels=[]\n",
        "  classlist=os.listdir(augment_dir)\n",
        "  for label in classlist:\n",
        "        classpath=os.path.join(augment_dir, label)     \n",
        "        flist=os.listdir(classpath)    \n",
        "        for f in flist:        \n",
        "            fpath=os.path.join(classpath,f)         \n",
        "            aug_image_paths.append(fpath)\n",
        "            aug_labels.append(label)\n",
        "  impath=pd.Series(aug_image_paths, name='image_paths')\n",
        "  lab=pd.Series(aug_labels, name='labels')\n",
        "  augment_df=pd.concat([impath, lab], axis=1)         \n",
        "  df=pd.concat([df,augment_df], axis=0).reset_index(drop=True)\n",
        "  print('Length of augmented dataframe :', len(df))\n",
        "  return df"
      ],
      "metadata": {
        "id": "aPBlyYDcbXEf"
      },
      "execution_count": 12,
      "outputs": []
    },
    {
      "cell_type": "code",
      "source": [
        "n=500 # number of samples in each class\n",
        "working_dir=r'./' # directory to store augmented images\n",
        "img_size=(224,224) # size of augmented images, we will be using this variable as a universal variable\n",
        "train_df=Augment(train_df, n, working_dir, img_size)    "
      ],
      "metadata": {
        "colab": {
          "base_uri": "https://localhost:8080/"
        },
        "id": "nowGZJEHsdLM",
        "outputId": "c44d94ae-5e35-4e62-f0e8-76f21a66da9b"
      },
      "execution_count": 13,
      "outputs": [
        {
          "output_type": "stream",
          "name": "stdout",
          "text": [
            "Initial length of dataframe is  16932\n",
            "For anthracnose in tea creating 420 augmented images. Found 80 validated image filenames.\n",
            "For Grape healthy creating 229 augmented images. Found 271 validated image filenames.\n",
            "For potato hollow heart creating 452 augmented images. Found 48 validated image filenames.\n",
            "For Tomato Tomato mosaic virus creating 202 augmented images. Found 298 validated image filenames.\n",
            "For lemon canker creating 451 augmented images. Found 49 validated image filenames.\n",
            "For Raspberry healthy creating 262 augmented images. Found 238 validated image filenames.\n",
            "For red leaf spot in tea creating 386 augmented images. Found 114 validated image filenames.\n",
            "For Strawberry healthy creating 208 augmented images. Found 292 validated image filenames.\n",
            "For corn crop creating 417 augmented images. Found 83 validated image filenames.\n",
            "For Gray Leaf Spot in corn Leaf creating 41 augmented images. Found 459 validated image filenames.\n",
            "For Potato healthy creating 402 augmented images. Found 98 validated image filenames.\n",
            "For Peach healthy creating 270 augmented images. Found 230 validated image filenames.\n",
            "For Cercospora leaf spot creating 449 augmented images. Found 51 validated image filenames.\n",
            "For cabbage looper creating 438 augmented images. Found 62 validated image filenames.\n",
            "For brown blight in tea creating 410 augmented images. Found 90 validated image filenames.\n",
            "For Garlic creating 461 augmented images. Found 39 validated image filenames.\n",
            "For Bacterial leaf blight in rice leaf creating 468 augmented images. Found 32 validated image filenames.\n",
            "For bird eye spot in tea creating 420 augmented images. Found 80 validated image filenames.\n",
            "For healthy tea leaf creating 441 augmented images. Found 59 validated image filenames.\n",
            "For potato crop creating 468 augmented images. Found 32 validated image filenames.\n",
            "For algal leaf in tea creating 410 augmented images. Found 90 validated image filenames.\n",
            "For onion creating 484 augmented images. Found 16 validated image filenames.\n",
            "For Sogatella rice creating 479 augmented images. Found 21 validated image filenames.\n",
            "For Brown spot in rice leaf creating 468 augmented images. Found 32 validated image filenames.\n",
            "For Leaf smut in rice leaf creating 468 augmented images. Found 32 validated image filenames.\n",
            "For ginger creating 464 augmented images. Found 36 validated image filenames.\n",
            "Total Augmented images created=  10068\n",
            "Length of augmented dataframe : 27000\n"
          ]
        }
      ]
    },
    {
      "cell_type": "markdown",
      "source": [
        "### Now to load our datasets, we will be using image data generator."
      ],
      "metadata": {
        "id": "pphmrf2U25IE"
      }
    },
    {
      "cell_type": "code",
      "source": [
        "batch_size=32 \n",
        "\n",
        "\n",
        "traingen0=ImageDataGenerator(horizontal_flip=True,rotation_range=20, width_shift_range=.2,\n",
        "                                  height_shift_range=.2, zoom_range=.2 )\n",
        "\n",
        "\n",
        "test_and_val_gen=ImageDataGenerator()\n",
        "\n",
        "\n",
        "train_gen=traingen0.flow_from_dataframe(train_df, x_col='image_paths', y_col='labels', target_size=img_size,\n",
        "                                   class_mode='categorical', color_mode='rgb', shuffle=True, batch_size=batch_size)\n",
        "\n",
        "\n",
        "\n",
        "valid_gen=test_and_val_gen.flow_from_dataframe(valid_df, x_col='image_paths', y_col='labels', target_size=img_size,\n",
        "                                   class_mode='categorical', color_mode='rgb', shuffle=False, batch_size=batch_size)\n",
        "\n",
        "\n",
        "\n",
        "#To determine the batch size for test_gen so we can check each image and nit miss out anything\n",
        "\n",
        "length=len(test_df)\n",
        "test_batch_size=sorted([int(length/n) for n in range(1,length+1) if length % n ==0 and length/n<=80],reverse=True)[0]  \n",
        "test_steps=int(length/test_batch_size)\n",
        "\n",
        "\n",
        "\n",
        "test_gen=test_and_val_gen.flow_from_dataframe(test_df, x_col='image_paths', y_col='labels', target_size=img_size,\n",
        "                                   class_mode='categorical', color_mode='rgb', shuffle=False, batch_size=test_batch_size)\n",
        "\n",
        "\n",
        "\n",
        "classes=list(train_gen.class_indices.keys())\n",
        "class_indices=list(train_gen.class_indices.values())\n",
        "class_count=len(classes)\n",
        "labels=test_gen.labels\n",
        "print ('test batch size: ' ,test_batch_size, '  test steps: ', test_steps, ' number of classes : ', class_count)"
      ],
      "metadata": {
        "colab": {
          "base_uri": "https://localhost:8080/"
        },
        "id": "MQR62FwObZzR",
        "outputId": "74d2c1ae-bb67-454f-f7b1-96baed301f99"
      },
      "execution_count": 14,
      "outputs": [
        {
          "output_type": "stream",
          "name": "stdout",
          "text": [
            "Found 27000 validated image filenames belonging to 54 classes.\n",
            "Found 6650 validated image filenames belonging to 54 classes.\n",
            "Found 6651 validated image filenames belonging to 54 classes.\n",
            "test batch size:  9   test steps:  739  number of classes :  54\n"
          ]
        }
      ]
    },
    {
      "cell_type": "markdown",
      "source": [
        "#Now for our model, we use transfer learning with EfficientNetB3 as our base model with Imagenet as its weights and adamax as its optimizer. Trainable is left true"
      ],
      "metadata": {
        "id": "mld9tWCp35Js"
      }
    },
    {
      "cell_type": "code",
      "source": [
        "\n",
        "img_shape=(224,224, 3)\n",
        "\n",
        "\n",
        "base_model=tf.keras.applications.efficientnet.EfficientNetB4(include_top=False, weights=\"imagenet\",input_shape=img_shape, pooling='max') \n",
        "\n",
        "base_model.trainable=True\n",
        "\n",
        "x=base_model.output\n",
        "\n",
        "x=BatchNormalization(axis=-1, momentum=0.99, epsilon=0.001 )(x)\n",
        "\n",
        "x = Dense(256, kernel_regularizer = regularizers.l2(l = 0.016),activity_regularizer=regularizers.l1(0.006),\n",
        "                bias_regularizer=regularizers.l1(0.006) ,activation='relu')(x)\n",
        "\n",
        "x=Dropout(rate=.4, seed=42)(x)       \n",
        "\n",
        "output=Dense(class_count, activation='softmax')(x)\n",
        "\n",
        "model=Model(inputs=base_model.input, outputs=output)\n",
        "\n",
        "lr=.001 # We can change this lr, after x epochs one can try lowering it\n",
        "model.compile(Adamax(learning_rate=lr), loss='categorical_crossentropy', metrics=['accuracy']) "
      ],
      "metadata": {
        "colab": {
          "base_uri": "https://localhost:8080/"
        },
        "id": "bA8YyS9UbeTs",
        "outputId": "372794e3-e8ea-4220-81f2-5855c22c0099"
      },
      "execution_count": 19,
      "outputs": [
        {
          "output_type": "stream",
          "name": "stdout",
          "text": [
            "Downloading data from https://storage.googleapis.com/keras-applications/efficientnetb4_notop.h5\n",
            "71686520/71686520 [==============================] - 1s 0us/step\n"
          ]
        }
      ]
    },
    {
      "cell_type": "code",
      "source": [
        "model.summary()"
      ],
      "metadata": {
        "id": "tJDqHz7yz3zQ"
      },
      "execution_count": null,
      "outputs": []
    },
    {
      "cell_type": "markdown",
      "source": [
        "#This is a user input callback that I found on kaggle. Every x epoch it will ask the user if they want to continue and also change the lr."
      ],
      "metadata": {
        "id": "TYPtH83v5MNQ"
      }
    },
    {
      "cell_type": "code",
      "source": [
        "class LR_ASK(keras.callbacks.Callback):\n",
        "    def __init__ (self, model, epochs,  ask_epoch): \n",
        "        super(LR_ASK, self).__init__()\n",
        "        self.model=model               \n",
        "        self.ask_epoch=ask_epoch\n",
        "        self.epochs=epochs\n",
        "        self.ask=True # This is the boolean to use to ask the user to continue or not\n",
        "        self.lowest_vloss=np.inf\n",
        "        self.best_weights=self.model.get_weights() # set best weights to model's initial weights\n",
        "        self.best_epoch=1\n",
        "        \n",
        "       #When training begins \n",
        "    def on_train_begin(self, logs=None):\n",
        "        if self.ask_epoch == 0: \n",
        "            print('you set ask_epoch = 0, ask_epoch will be set to 1', flush=True)\n",
        "            self.ask_epoch=1\n",
        "        if self.ask_epoch >= self.epochs: \n",
        "            print('ask_epoch >= epochs, will train for ', epochs, ' epochs', flush=True)\n",
        "            self.ask=False \n",
        "        if self.epochs == 1:\n",
        "            self.ask=False \n",
        "        else:\n",
        "            print('Training will proceed until epoch:', ask_epoch,' then you will be asked to') \n",
        "            print(' enter H or 0 to halt training or enter a positive integer for how many more epochs to run the model before being asked again')  \n",
        "        self.start_time= time.time() # storing time at which training started\n",
        "\n",
        "    #This runs when training ends    \n",
        "    def on_train_end(self, logs=None):    \n",
        "        print('loading model with weights from epoch ', self.best_epoch)\n",
        "        self.model.set_weights(self.best_weights) # get best weights\n",
        "        tr_duration=time.time() - self.start_time   # check how long the training lasted       \n",
        "        hours = tr_duration // 3600\n",
        "        minutes = (tr_duration - (hours * 3600)) // 60\n",
        "        seconds = tr_duration - ((hours * 3600) + (minutes * 60))\n",
        "        msg = f'training elapsed time was {str(hours)} hours, {minutes:4.1f} minutes, {seconds:4.2f} seconds)'\n",
        "        print (msg, flush=True) # print out training time\n",
        "\n",
        "     #this method runs at the end of epoch   \n",
        "    def on_epoch_end(self, epoch, logs=None): \n",
        "        v_loss=logs.get('val_loss')  #validation loss for this epoch\n",
        "        if v_loss< self.lowest_vloss: #check if it is the lowest loss\n",
        "            self.lowest_vloss=v_loss\n",
        "            self.best_weights=self.model.get_weights() # store the best weights\n",
        "            self.best_epoch=epoch + 1\n",
        "            print (f'\\n validation loss of {v_loss:7.4f} is below lowest loss, saving weights from epoch {str(epoch + 1):3s} as best weights')\n",
        "        else:\n",
        "            print (f'\\n validation loss of {v_loss:7.4f} is above lowest loss of {self.lowest_vloss:7.4f} keeping weights from epoch {str(self.best_epoch)} as best weights')\n",
        "        \n",
        "        if self.ask: # If true we ask the user if they wanto to halt/continue/change lr\n",
        "            if epoch + 1 ==self.ask_epoch: # check if it is the correct epoch to ask?\n",
        "                print('\\n Enter H or 0 to end training or  a positive  integer for the number of additional epochs to run the model before being asked again')\n",
        "                ans=input()\n",
        "                \n",
        "                if ans == 'H' or ans =='h' or ans == '0': # quit training for these inputs\n",
        "                    print ('you entered ', ans, ' Training halted on epoch ', epoch+1, ' due to user input\\n', flush=True)\n",
        "                    self.model.stop_training = True # stop training\n",
        "                else: # if user wants to continue(for x amount of epochs)\n",
        "                    self.ask_epoch += int(ans)\n",
        "                    if self.ask_epoch > self.epochs:#if epochs mentioned are more than initial value\n",
        "                        print('\\nYou specified maximum epochs of as ', self.epochs, ' cannot train for ', self.ask_epoch, flush =True)\n",
        "                    else:#continue to train \n",
        "                        print ('you entered ', ans, ' Training will continue to epoch ', self.ask_epoch, flush=True)\n",
        "                        lr=float(tf.keras.backend.get_value(self.model.optimizer.lr)) #current learning rate\n",
        "                        print(f'current LR is  {lr:7.5f}  hit enter to keep  this LR or enter a new LR')#ask if we want a new lr\n",
        "                        ans=input(' ')\n",
        "                        if ans =='':\n",
        "                            print (f'keeping current LR of {lr:7.5f}')\n",
        "                        else:\n",
        "                            new_lr=float(ans)\n",
        "                            tf.keras.backend.set_value(self.model.optimizer.lr, new_lr) # set the learning rate in the optimizer\n",
        "                            print(' changing LR to ', ans)"
      ],
      "metadata": {
        "id": "xlTbedi5bj56"
      },
      "execution_count": 20,
      "outputs": []
    },
    {
      "cell_type": "markdown",
      "source": [
        "##Now let us run the code"
      ],
      "metadata": {
        "id": "0vC-TPBk650s"
      }
    },
    {
      "cell_type": "code",
      "source": [
        "epochs=20\n",
        "ask_epoch=5\n",
        "ask=LR_ASK(model, epochs,  ask_epoch)\n",
        "callbacks=[ask]"
      ],
      "metadata": {
        "id": "XWdS__NMbm2f"
      },
      "execution_count": 21,
      "outputs": []
    },
    {
      "cell_type": "code",
      "source": [
        "history=model.fit(x=train_gen,  epochs=epochs, verbose=1, callbacks=callbacks,  validation_data=valid_gen,\n",
        "               validation_steps=None,  shuffle=False,  initial_epoch=0)"
      ],
      "metadata": {
        "colab": {
          "base_uri": "https://localhost:8080/"
        },
        "id": "NaOQrb_ncnFM",
        "outputId": "eac3f084-f194-44c8-ddab-fbfb6727fe75"
      },
      "execution_count": 22,
      "outputs": [
        {
          "output_type": "stream",
          "name": "stdout",
          "text": [
            "Training will proceed until epoch: 5  then you will be asked to\n",
            " enter H or 0 to halt training or enter a positive integer for how many more epochs to run the model before being asked again\n",
            "Epoch 1/20\n",
            "844/844 [==============================] - ETA: 0s - loss: 4.3923 - accuracy: 0.8439\n",
            " validation loss of  1.3460 is below lowest loss, saving weights from epoch 1   as best weights\n",
            "844/844 [==============================] - 720s 827ms/step - loss: 4.3923 - accuracy: 0.8439 - val_loss: 1.3460 - val_accuracy: 0.9743\n",
            "Epoch 2/20\n",
            "844/844 [==============================] - ETA: 0s - loss: 0.9016 - accuracy: 0.9669\n",
            " validation loss of  0.5477 is below lowest loss, saving weights from epoch 2   as best weights\n",
            "844/844 [==============================] - 690s 817ms/step - loss: 0.9016 - accuracy: 0.9669 - val_loss: 0.5477 - val_accuracy: 0.9850\n",
            "Epoch 3/20\n",
            "844/844 [==============================] - ETA: 0s - loss: 0.5634 - accuracy: 0.9775\n",
            " validation loss of  0.4406 is below lowest loss, saving weights from epoch 3   as best weights\n",
            "844/844 [==============================] - 688s 814ms/step - loss: 0.5634 - accuracy: 0.9775 - val_loss: 0.4406 - val_accuracy: 0.9866\n",
            "Epoch 4/20\n",
            "844/844 [==============================] - ETA: 0s - loss: 0.4634 - accuracy: 0.9841\n",
            " validation loss of  0.3666 is below lowest loss, saving weights from epoch 4   as best weights\n",
            "844/844 [==============================] - 687s 813ms/step - loss: 0.4634 - accuracy: 0.9841 - val_loss: 0.3666 - val_accuracy: 0.9917\n",
            "Epoch 5/20\n",
            "844/844 [==============================] - ETA: 0s - loss: 0.3944 - accuracy: 0.9886\n",
            " validation loss of  0.3301 is below lowest loss, saving weights from epoch 5   as best weights\n",
            "\n",
            " Enter H or 0 to end training or  a positive  integer for the number of additional epochs to run the model before being asked again\n",
            "5\n",
            "you entered  5  Training will continue to epoch  10\n",
            "current LR is  0.00100  hit enter to keep  this LR or enter a new LR\n",
            " 0.0005\n",
            " changing LR to  0.0005\n",
            "844/844 [==============================] - 708s 838ms/step - loss: 0.3944 - accuracy: 0.9886 - val_loss: 0.3301 - val_accuracy: 0.9904\n",
            "Epoch 6/20\n",
            "844/844 [==============================] - ETA: 0s - loss: 0.3294 - accuracy: 0.9934\n",
            " validation loss of  0.2832 is below lowest loss, saving weights from epoch 6   as best weights\n",
            "844/844 [==============================] - 685s 811ms/step - loss: 0.3294 - accuracy: 0.9934 - val_loss: 0.2832 - val_accuracy: 0.9934\n",
            "Epoch 7/20\n",
            "844/844 [==============================] - ETA: 0s - loss: 0.2990 - accuracy: 0.9948\n",
            " validation loss of  0.2667 is below lowest loss, saving weights from epoch 7   as best weights\n",
            "844/844 [==============================] - 687s 814ms/step - loss: 0.2990 - accuracy: 0.9948 - val_loss: 0.2667 - val_accuracy: 0.9928\n",
            "Epoch 8/20\n",
            "844/844 [==============================] - ETA: 0s - loss: 0.2748 - accuracy: 0.9958\n",
            " validation loss of  0.2581 is below lowest loss, saving weights from epoch 8   as best weights\n",
            "844/844 [==============================] - 688s 814ms/step - loss: 0.2748 - accuracy: 0.9958 - val_loss: 0.2581 - val_accuracy: 0.9911\n",
            "Epoch 9/20\n",
            "844/844 [==============================] - ETA: 0s - loss: 0.2573 - accuracy: 0.9958\n",
            " validation loss of  0.2330 is below lowest loss, saving weights from epoch 9   as best weights\n",
            "844/844 [==============================] - 691s 819ms/step - loss: 0.2573 - accuracy: 0.9958 - val_loss: 0.2330 - val_accuracy: 0.9941\n",
            "Epoch 10/20\n",
            "844/844 [==============================] - ETA: 0s - loss: 0.2367 - accuracy: 0.9970\n",
            " validation loss of  0.2225 is below lowest loss, saving weights from epoch 10  as best weights\n",
            "\n",
            " Enter H or 0 to end training or  a positive  integer for the number of additional epochs to run the model before being asked again\n",
            "h\n",
            "you entered  h  Training halted on epoch  10  due to user input\n",
            "\n",
            "844/844 [==============================] - 907s 1s/step - loss: 0.2367 - accuracy: 0.9970 - val_loss: 0.2225 - val_accuracy: 0.9941\n",
            "loading model with weights from epoch  10\n",
            "training elapsed time was 2.0 hours,  0.0 minutes, 55.87 seconds)\n"
          ]
        }
      ]
    },
    {
      "cell_type": "markdown",
      "source": [
        "### Let us plot the graph for training and validation curves\n"
      ],
      "metadata": {
        "id": "rN40p4Fx7Et2"
      }
    },
    {
      "cell_type": "code",
      "source": [
        "    sns.set_style(\"darkgrid\", {\"grid.color\": \".5\", \"grid.linestyle\": \":\"})\n",
        "    \n",
        "    training_acc =history.history['accuracy']\n",
        "    training_loss=history.history['loss']\n",
        "    val_acc=history.history['val_accuracy']\n",
        "    val_loss=history.history['val_loss']\n",
        "    \n",
        "    \n",
        "    Epoch_count=len(training_acc)\n",
        "    Epochs=[]\n",
        "    \n",
        "    \n",
        "    for i in range (0 ,Epoch_count):\n",
        "        Epochs.append(i+1)   \n",
        "    \n",
        "    \n",
        "    fig,axes=plt.subplots(nrows=2, ncols=1, figsize=(15,13))\n",
        "    axes[0].plot(Epochs,training_loss, '#ff7788', label='Training loss')\n",
        "    axes[0].plot(Epochs,val_loss,'#6366f1',label='Validation loss' )\n",
        "    axes[0].set_title('Training and Validation Loss')\n",
        "    axes[0].set_xlabel('Epochs')\n",
        "    axes[0].set_ylabel('Loss')\n",
        "    axes[0].legend()\n",
        "    \n",
        "    axes[1].plot (Epochs,training_acc,'#ff7788',label= 'Training Accuracy')\n",
        "    axes[1].plot (Epochs,val_acc,'#6366f1',label= 'Validation Accuracy')\n",
        "    axes[1].set_title('Training and Validation Accuracy')\n",
        "    axes[1].set_xlabel('Epochs')\n",
        "    axes[1].set_ylabel('Accuracy')\n",
        "    axes[1].legend() \n",
        "    plt.show()"
      ],
      "metadata": {
        "id": "6hlV0wi_crts",
        "colab": {
          "base_uri": "https://localhost:8080/",
          "height": 785
        },
        "outputId": "d8574382-2081-437f-e3b8-62c19f1fce9a"
      },
      "execution_count": 23,
      "outputs": [
        {
          "output_type": "display_data",
          "data": {
            "text/plain": [
              "<Figure size 1080x936 with 2 Axes>"
            ],
            "image/png": "[encoded data removed]"
          },
          "metadata": {}
        }
      ]
    },
    {
      "cell_type": "markdown",
      "source": [
        "###To evaluate  we use classification report from sklearn. We can make a confusion matrix as well but that might make it a tad convulated"
      ],
      "metadata": {
        "id": "5qE71XKS7ZGE"
      }
    },
    {
      "cell_type": "code",
      "source": [
        "\n",
        "y_pred= []#store predictions\n",
        "y_true=test_gen.labels\n",
        "classes=list(test_gen.class_indices.keys())\n",
        "class_count=len(classes)\n",
        "errors=0 #store errors\n",
        "preds=model.predict(test_gen, verbose=1)\n",
        "    \n",
        "tests=len(preds)    \n",
        "    \n",
        "#loop to check the number of errors    \n",
        "for i, j in enumerate(preds):        \n",
        "    pred_index=np.argmax(j)         \n",
        "    true_index=test_gen.labels[i]      \n",
        "    if pred_index != true_index: # is predicted label=true label?                                           \n",
        "        errors=errors + 1\n",
        "    y_pred.append(pred_index)\n",
        "            \n",
        "acc=(1-(errors/tests))* 100 \n",
        "print(f'Model made {errors} errors out  {tests} images. Accuracy = {acc:6.2f}%')\n",
        "    \n",
        "    \n",
        "ypred=np.array(y_pred)\n",
        "ytrue=np.array(y_true)\n",
        "    \n",
        "report = classification_report(y_true, y_pred, target_names=classes, digits= 4) # storeclassification report\n",
        "print(\"\\nClassification Report:\\n\", report)"
      ],
      "metadata": {
        "colab": {
          "base_uri": "https://localhost:8080/"
        },
        "id": "f1FlfQ00sqwh",
        "outputId": "1ca493d8-21f3-4e0d-8d63-3b86b0e44765"
      },
      "execution_count": 24,
      "outputs": [
        {
          "output_type": "stream",
          "name": "stdout",
          "text": [
            "739/739 [==============================] - 43s 54ms/step\n",
            "Model made 31 errors out  6651 images. Accuracy =  99.53%\n",
            "\n",
            "Classification Report:\n",
            "                                              precision    recall  f1-score   support\n",
            "\n",
            "                           Apple Apple scab     1.0000    1.0000    1.0000       202\n",
            "                            Apple Black rot     1.0000    1.0000    1.0000       199\n",
            "                     Apple Cedar apple rust     1.0000    1.0000    1.0000        88\n",
            "                              Apple healthy     1.0000    1.0000    1.0000       132\n",
            "         Bacterial leaf blight in rice leaf     1.0000    1.0000    1.0000         4\n",
            "                        Blight in corn Leaf     0.9339    0.9826    0.9576       115\n",
            "                          Blueberry healthy     1.0000    1.0000    1.0000       120\n",
            "                    Brown spot in rice leaf     1.0000    1.0000    1.0000         4\n",
            "                       Cercospora leaf spot     0.8000    0.6667    0.7273         6\n",
            "     Cherry (including sour) Powdery mildew     1.0000    1.0000    1.0000        84\n",
            "            Cherry (including_sour) healthy     1.0000    1.0000    1.0000        68\n",
            "                   Common Rust in corn Leaf     0.9848    0.9924    0.9886       131\n",
            "                       Corn (maize) healthy     1.0000    1.0000    1.0000        93\n",
            "                                     Garlic     1.0000    1.0000    1.0000         5\n",
            "                            Grape Black rot     0.9974    1.0000    0.9987       378\n",
            "                   Grape Esca Black Measles     1.0000    0.9977    0.9989       443\n",
            "     Grape Leaf blight Isariopsis Leaf Spot     1.0000    1.0000    1.0000       345\n",
            "                              Grape healthy     1.0000    1.0000    1.0000        34\n",
            "                Gray Leaf Spot in corn Leaf     0.9608    0.8596    0.9074        57\n",
            "                     Leaf smut in rice leaf     1.0000    1.0000    1.0000         4\n",
            "       Orange Haunglongbing Citrus greening     1.0000    0.9994    0.9997      1763\n",
            "                              Peach healthy     1.0000    1.0000    1.0000        29\n",
            "                 Pepper bell Bacterial spot     0.9802    0.9900    0.9851       100\n",
            "                        Pepper bell healthy     0.9833    0.9916    0.9874       119\n",
            "                        Potato Early blight     0.9901    1.0000    0.9950       100\n",
            "                         Potato Late blight     0.9901    1.0000    0.9950       100\n",
            "                             Potato healthy     1.0000    1.0000    1.0000        12\n",
            "                          Raspberry healthy     1.0000    1.0000    1.0000        29\n",
            "                             Sogatella rice     1.0000    1.0000    1.0000         2\n",
            "                            Soybean healthy     1.0000    1.0000    1.0000       407\n",
            "                     Strawberry Leaf scorch     1.0000    1.0000    1.0000        89\n",
            "                         Strawberry healthy     1.0000    1.0000    1.0000        36\n",
            "                      Tomato Bacterial spot     1.0000    0.9859    0.9929       213\n",
            "                        Tomato Early blight     0.9901    1.0000    0.9950       100\n",
            "                         Tomato Late blight     0.9948    0.9948    0.9948       191\n",
            "                           Tomato Leaf Mold     1.0000    1.0000    1.0000        95\n",
            "                  Tomato Septoria leaf spot     1.0000    1.0000    1.0000       177\n",
            "Tomato Spider mites Two spotted spider mite     1.0000    0.9762    0.9880       168\n",
            "                         Tomato Target Spot     0.9589    0.9929    0.9756       141\n",
            "                 Tomato Tomato mosaic virus     1.0000    1.0000    1.0000        37\n",
            "                             Tomato healthy     1.0000    1.0000    1.0000       128\n",
            "                          algal leaf in tea     1.0000    1.0000    1.0000        11\n",
            "                         anthracnose in tea     1.0000    0.8000    0.8889        10\n",
            "                       bird eye spot in tea     0.8333    1.0000    0.9091        10\n",
            "                        brown blight in tea     1.0000    1.0000    1.0000        11\n",
            "                             cabbage looper     1.0000    0.8750    0.9333         8\n",
            "                                  corn crop     1.0000    1.0000    1.0000        10\n",
            "                                     ginger     1.0000    1.0000    1.0000         4\n",
            "                           healthy tea leaf     1.0000    1.0000    1.0000         7\n",
            "                               lemon canker     0.8333    0.8333    0.8333         6\n",
            "                                      onion     1.0000    1.0000    1.0000         2\n",
            "                                potato crop     1.0000    1.0000    1.0000         4\n",
            "                        potato hollow heart     1.0000    0.8333    0.9091         6\n",
            "                       red leaf spot in tea     1.0000    1.0000    1.0000        14\n",
            "\n",
            "                                   accuracy                         0.9953      6651\n",
            "                                  macro avg     0.9858    0.9773    0.9808      6651\n",
            "                               weighted avg     0.9954    0.9953    0.9953      6651\n",
            "\n"
          ]
        }
      ]
    },
    {
      "cell_type": "code",
      "source": [
        "from tensorflow.keras.models import save_model,load_model\n"
      ],
      "metadata": {
        "id": "H6m1wIyn6STC"
      },
      "execution_count": 27,
      "outputs": []
    },
    {
      "cell_type": "code",
      "source": [
        "from google.colab import drive\n",
        "drive.mount('/content/drive')"
      ],
      "metadata": {
        "colab": {
          "base_uri": "https://localhost:8080/"
        },
        "id": "EPnYVR1wNuyw",
        "outputId": "044eab14-7ab9-41f0-d0d4-f64d19c6cfde"
      },
      "execution_count": 25,
      "outputs": [
        {
          "output_type": "stream",
          "name": "stdout",
          "text": [
            "Mounted at /content/drive\n"
          ]
        }
      ]
    },
    {
      "cell_type": "code",
      "source": [
        "save_model(model,'/content/drive/MyDrive/Models/plantdisease500-B4.h5')"
      ],
      "metadata": {
        "id": "XQqO2Xc26zLL"
      },
      "execution_count": 28,
      "outputs": []
    },
    {
      "cell_type": "markdown",
      "source": [
        "#To summarize:\n",
        "The model overall gives us 98% accuracy with only 5 epochs for 54 classes\n",
        "This can be improved further with more epochs and a lower learning rate. One can also experiment with other optimizers and models like Xception,resnet etc for better results."
      ],
      "metadata": {
        "id": "GjCpHSX4-OD2"
      }
    }
  ]
}